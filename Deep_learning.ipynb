{
 "cells": [
  {
   "cell_type": "markdown",
   "id": "0c3eb11f",
   "metadata": {},
   "source": [
    "# Importing the libraries"
   ]
  },
  {
   "cell_type": "code",
   "execution_count": 31,
   "id": "7b1ec60f",
   "metadata": {},
   "outputs": [],
   "source": [
    "import matplotlib.pyplot as plt\n",
    "import numpy as np\n",
    "from scipy import stats\n",
    "import pandas as pd\n",
    "import plotly.express as px\n",
    "from datetime import datetime\n",
    "from datetime import timedelta\n",
    "from matplotlib.backends.backend_pdf import PdfPages\n",
    "from tqdm import tqdm\n",
    "import logging\n",
    "import plotly.figure_factory as ff\n",
    "import os\n",
    "\n",
    "import seaborn as sns\n",
    "%matplotlib inline\n",
    "\n",
    "import plotly.express as px\n",
    "import plotly.graph_objs as go\n",
    "import plotly\n",
    "import plotly.offline as pyo\n",
    "import warnings\n",
    "warnings.filterwarnings(\"ignore\")\n",
    "\n",
    "pd.set_option('display.max_rows', None)\n",
    "pd.set_option('display.max_columns', None)\n",
    "\n",
    "import plotly.offline as pyo\n",
    "import plotly.graph_objs as go\n",
    "from bokeh.plotting import *\n",
    "from bokeh.models import *\n",
    "from bokeh.plotting import figure, show\n",
    "from bokeh.models import LinearAxis, Range1d, Legend\n",
    "import bokeh.io\n",
    "bokeh.io.reset_output()\n",
    "# bokeh.io.output_notebook()\n",
    "\n",
    "pd.set_option('display.float_format', lambda x: f'{x:.3f}')"
   ]
  },
  {
   "cell_type": "markdown",
   "id": "27495bfc",
   "metadata": {},
   "source": [
    "# Importing the dataset"
   ]
  },
  {
   "cell_type": "code",
   "execution_count": 32,
   "id": "9827f95f",
   "metadata": {},
   "outputs": [],
   "source": [
    "dataset = pd.read_csv('Churn_Modelling.csv')\n",
    "X = dataset.iloc[:, 3:13].values\n",
    "y = dataset.iloc[:, 13].values"
   ]
  },
  {
   "cell_type": "code",
   "execution_count": 33,
   "id": "72de134c",
   "metadata": {},
   "outputs": [
    {
     "data": {
      "text/html": [
       "<div>\n",
       "<style scoped>\n",
       "    .dataframe tbody tr th:only-of-type {\n",
       "        vertical-align: middle;\n",
       "    }\n",
       "\n",
       "    .dataframe tbody tr th {\n",
       "        vertical-align: top;\n",
       "    }\n",
       "\n",
       "    .dataframe thead th {\n",
       "        text-align: right;\n",
       "    }\n",
       "</style>\n",
       "<table border=\"1\" class=\"dataframe\">\n",
       "  <thead>\n",
       "    <tr style=\"text-align: right;\">\n",
       "      <th></th>\n",
       "      <th>RowNumber</th>\n",
       "      <th>CustomerId</th>\n",
       "      <th>Surname</th>\n",
       "      <th>CreditScore</th>\n",
       "      <th>Geography</th>\n",
       "      <th>Gender</th>\n",
       "      <th>Age</th>\n",
       "      <th>Tenure</th>\n",
       "      <th>Balance</th>\n",
       "      <th>NumOfProducts</th>\n",
       "      <th>HasCrCard</th>\n",
       "      <th>IsActiveMember</th>\n",
       "      <th>EstimatedSalary</th>\n",
       "      <th>Exited</th>\n",
       "    </tr>\n",
       "  </thead>\n",
       "  <tbody>\n",
       "    <tr>\n",
       "      <th>0</th>\n",
       "      <td>1</td>\n",
       "      <td>15634602</td>\n",
       "      <td>Hargrave</td>\n",
       "      <td>619</td>\n",
       "      <td>France</td>\n",
       "      <td>Female</td>\n",
       "      <td>42</td>\n",
       "      <td>2</td>\n",
       "      <td>0.000</td>\n",
       "      <td>1</td>\n",
       "      <td>1</td>\n",
       "      <td>1</td>\n",
       "      <td>101348.880</td>\n",
       "      <td>1</td>\n",
       "    </tr>\n",
       "    <tr>\n",
       "      <th>1</th>\n",
       "      <td>2</td>\n",
       "      <td>15647311</td>\n",
       "      <td>Hill</td>\n",
       "      <td>608</td>\n",
       "      <td>Spain</td>\n",
       "      <td>Female</td>\n",
       "      <td>41</td>\n",
       "      <td>1</td>\n",
       "      <td>83807.860</td>\n",
       "      <td>1</td>\n",
       "      <td>0</td>\n",
       "      <td>1</td>\n",
       "      <td>112542.580</td>\n",
       "      <td>0</td>\n",
       "    </tr>\n",
       "    <tr>\n",
       "      <th>2</th>\n",
       "      <td>3</td>\n",
       "      <td>15619304</td>\n",
       "      <td>Onio</td>\n",
       "      <td>502</td>\n",
       "      <td>France</td>\n",
       "      <td>Female</td>\n",
       "      <td>42</td>\n",
       "      <td>8</td>\n",
       "      <td>159660.800</td>\n",
       "      <td>3</td>\n",
       "      <td>1</td>\n",
       "      <td>0</td>\n",
       "      <td>113931.570</td>\n",
       "      <td>1</td>\n",
       "    </tr>\n",
       "    <tr>\n",
       "      <th>3</th>\n",
       "      <td>4</td>\n",
       "      <td>15701354</td>\n",
       "      <td>Boni</td>\n",
       "      <td>699</td>\n",
       "      <td>France</td>\n",
       "      <td>Female</td>\n",
       "      <td>39</td>\n",
       "      <td>1</td>\n",
       "      <td>0.000</td>\n",
       "      <td>2</td>\n",
       "      <td>0</td>\n",
       "      <td>0</td>\n",
       "      <td>93826.630</td>\n",
       "      <td>0</td>\n",
       "    </tr>\n",
       "    <tr>\n",
       "      <th>4</th>\n",
       "      <td>5</td>\n",
       "      <td>15737888</td>\n",
       "      <td>Mitchell</td>\n",
       "      <td>850</td>\n",
       "      <td>Spain</td>\n",
       "      <td>Female</td>\n",
       "      <td>43</td>\n",
       "      <td>2</td>\n",
       "      <td>125510.820</td>\n",
       "      <td>1</td>\n",
       "      <td>1</td>\n",
       "      <td>1</td>\n",
       "      <td>79084.100</td>\n",
       "      <td>0</td>\n",
       "    </tr>\n",
       "  </tbody>\n",
       "</table>\n",
       "</div>"
      ],
      "text/plain": [
       "   RowNumber  CustomerId   Surname  CreditScore Geography  Gender  Age  \\\n",
       "0          1    15634602  Hargrave          619    France  Female   42   \n",
       "1          2    15647311      Hill          608     Spain  Female   41   \n",
       "2          3    15619304      Onio          502    France  Female   42   \n",
       "3          4    15701354      Boni          699    France  Female   39   \n",
       "4          5    15737888  Mitchell          850     Spain  Female   43   \n",
       "\n",
       "   Tenure    Balance  NumOfProducts  HasCrCard  IsActiveMember  \\\n",
       "0       2      0.000              1          1               1   \n",
       "1       1  83807.860              1          0               1   \n",
       "2       8 159660.800              3          1               0   \n",
       "3       1      0.000              2          0               0   \n",
       "4       2 125510.820              1          1               1   \n",
       "\n",
       "   EstimatedSalary  Exited  \n",
       "0       101348.880       1  \n",
       "1       112542.580       0  \n",
       "2       113931.570       1  \n",
       "3        93826.630       0  \n",
       "4        79084.100       0  "
      ]
     },
     "execution_count": 33,
     "metadata": {},
     "output_type": "execute_result"
    }
   ],
   "source": [
    "dataset.head()"
   ]
  },
  {
   "cell_type": "code",
   "execution_count": 34,
   "id": "8aef78fb",
   "metadata": {},
   "outputs": [],
   "source": [
    "import tensorflow as tf"
   ]
  },
  {
   "cell_type": "code",
   "execution_count": 35,
   "id": "0d88b32c",
   "metadata": {},
   "outputs": [
    {
     "data": {
      "text/plain": [
       "'2.10.0'"
      ]
     },
     "execution_count": 35,
     "metadata": {},
     "output_type": "execute_result"
    }
   ],
   "source": [
    "tf.__version__"
   ]
  },
  {
   "cell_type": "markdown",
   "id": "8195d83f",
   "metadata": {},
   "source": [
    "# Encoding categorical data"
   ]
  },
  {
   "cell_type": "code",
   "execution_count": 36,
   "id": "b11bfefc",
   "metadata": {},
   "outputs": [],
   "source": [
    "from sklearn.preprocessing import LabelEncoder, OneHotEncoder\n",
    "from sklearn.compose import ColumnTransformer\n",
    "le = LabelEncoder()\n",
    "X[:,2] = le.fit_transform(X[:,2])"
   ]
  },
  {
   "cell_type": "code",
   "execution_count": 37,
   "id": "212bcde8",
   "metadata": {},
   "outputs": [
    {
     "name": "stdout",
     "output_type": "stream",
     "text": [
      "[[619 'France' 0 ... 1 1 101348.88]\n",
      " [608 'Spain' 0 ... 0 1 112542.58]\n",
      " [502 'France' 0 ... 1 0 113931.57]\n",
      " ...\n",
      " [709 'France' 0 ... 0 1 42085.58]\n",
      " [772 'Germany' 1 ... 1 0 92888.52]\n",
      " [792 'France' 0 ... 1 0 38190.78]]\n"
     ]
    }
   ],
   "source": [
    "print(X)"
   ]
  },
  {
   "cell_type": "code",
   "execution_count": 38,
   "id": "42cfc6d0",
   "metadata": {},
   "outputs": [],
   "source": [
    "ct = ColumnTransformer(transformers=[('encoder',OneHotEncoder(),[1])]\n",
    "                       ,remainder='passthrough')\n",
    "X = np.array(ct.fit_transform(X))"
   ]
  },
  {
   "cell_type": "code",
   "execution_count": 39,
   "id": "49176d9a",
   "metadata": {},
   "outputs": [
    {
     "name": "stdout",
     "output_type": "stream",
     "text": [
      "[[1.0 0.0 0.0 ... 1 1 101348.88]\n",
      " [0.0 0.0 1.0 ... 0 1 112542.58]\n",
      " [1.0 0.0 0.0 ... 1 0 113931.57]\n",
      " ...\n",
      " [1.0 0.0 0.0 ... 0 1 42085.58]\n",
      " [0.0 1.0 0.0 ... 1 0 92888.52]\n",
      " [1.0 0.0 0.0 ... 1 0 38190.78]]\n"
     ]
    }
   ],
   "source": [
    "print(X)"
   ]
  },
  {
   "cell_type": "markdown",
   "id": "2a5f6f0b",
   "metadata": {},
   "source": [
    "# Splitting the dataset into the Training set and Test set"
   ]
  },
  {
   "cell_type": "code",
   "execution_count": 40,
   "id": "c2266362",
   "metadata": {},
   "outputs": [],
   "source": [
    "from sklearn.model_selection import train_test_split\n",
    "X_train, X_test, y_train, y_test = train_test_split(X, y, \n",
    "                                                    test_size = 0.2, random_state = 0)"
   ]
  },
  {
   "cell_type": "code",
   "execution_count": 41,
   "id": "e1c56733",
   "metadata": {},
   "outputs": [],
   "source": [
    "from sklearn.preprocessing import StandardScaler\n",
    "sc = StandardScaler()\n",
    "X_train = sc.fit_transform(X_train)\n",
    "X_test = sc.transform(X_test)"
   ]
  },
  {
   "cell_type": "markdown",
   "id": "43521d1b",
   "metadata": {},
   "source": [
    "# Building ANN"
   ]
  },
  {
   "cell_type": "code",
   "execution_count": 42,
   "id": "a9ebedb6",
   "metadata": {},
   "outputs": [],
   "source": [
    "ann = tf.keras.models.Sequential()"
   ]
  },
  {
   "cell_type": "code",
   "execution_count": 43,
   "id": "ce2455f3",
   "metadata": {},
   "outputs": [],
   "source": [
    "ann.add(tf.keras.layers.Dense(units=6,activation='relu'))\n",
    "ann.add(tf.keras.layers.Dense(units=6,activation='relu'))\n",
    "ann.add(tf.keras.layers.Dense(units=1,activation='sigmoid'))"
   ]
  },
  {
   "cell_type": "markdown",
   "id": "39be984e",
   "metadata": {},
   "source": [
    "# Training the ANN"
   ]
  },
  {
   "cell_type": "code",
   "execution_count": 44,
   "id": "ad19dd18",
   "metadata": {},
   "outputs": [],
   "source": [
    "ann.compile(optimizer='adam' ,loss='binary_crossentropy',\n",
    "            metrics=['accuracy'])"
   ]
  },
  {
   "cell_type": "code",
   "execution_count": 45,
   "id": "0a12644d",
   "metadata": {},
   "outputs": [
    {
     "name": "stdout",
     "output_type": "stream",
     "text": [
      "Epoch 1/100\n",
      "250/250 [==============================] - 0s 544us/step - loss: 0.5078 - accuracy: 0.7960\n",
      "Epoch 2/100\n",
      "250/250 [==============================] - 0s 536us/step - loss: 0.4574 - accuracy: 0.7971\n",
      "Epoch 3/100\n",
      "250/250 [==============================] - 0s 519us/step - loss: 0.4433 - accuracy: 0.7980\n",
      "Epoch 4/100\n",
      "250/250 [==============================] - 0s 510us/step - loss: 0.4354 - accuracy: 0.8011\n",
      "Epoch 5/100\n",
      "250/250 [==============================] - 0s 511us/step - loss: 0.4282 - accuracy: 0.8058\n",
      "Epoch 6/100\n",
      "250/250 [==============================] - 0s 536us/step - loss: 0.4189 - accuracy: 0.8156\n",
      "Epoch 7/100\n",
      "250/250 [==============================] - 0s 537us/step - loss: 0.4076 - accuracy: 0.8200\n",
      "Epoch 8/100\n",
      "250/250 [==============================] - 0s 561us/step - loss: 0.3979 - accuracy: 0.8236\n",
      "Epoch 9/100\n",
      "250/250 [==============================] - 0s 535us/step - loss: 0.3896 - accuracy: 0.8282\n",
      "Epoch 10/100\n",
      "250/250 [==============================] - 0s 535us/step - loss: 0.3823 - accuracy: 0.8332\n",
      "Epoch 11/100\n",
      "250/250 [==============================] - 0s 529us/step - loss: 0.3759 - accuracy: 0.8374\n",
      "Epoch 12/100\n",
      "250/250 [==============================] - 0s 550us/step - loss: 0.3699 - accuracy: 0.8403\n",
      "Epoch 13/100\n",
      "250/250 [==============================] - 0s 553us/step - loss: 0.3650 - accuracy: 0.8466\n",
      "Epoch 14/100\n",
      "250/250 [==============================] - 0s 533us/step - loss: 0.3606 - accuracy: 0.8512\n",
      "Epoch 15/100\n",
      "250/250 [==============================] - 0s 526us/step - loss: 0.3573 - accuracy: 0.8525\n",
      "Epoch 16/100\n",
      "250/250 [==============================] - 0s 527us/step - loss: 0.3553 - accuracy: 0.8519\n",
      "Epoch 17/100\n",
      "250/250 [==============================] - 0s 521us/step - loss: 0.3526 - accuracy: 0.8553\n",
      "Epoch 18/100\n",
      "250/250 [==============================] - 0s 530us/step - loss: 0.3510 - accuracy: 0.8558\n",
      "Epoch 19/100\n",
      "250/250 [==============================] - 0s 560us/step - loss: 0.3503 - accuracy: 0.8571\n",
      "Epoch 20/100\n",
      "250/250 [==============================] - 0s 550us/step - loss: 0.3492 - accuracy: 0.8539\n",
      "Epoch 21/100\n",
      "250/250 [==============================] - 0s 524us/step - loss: 0.3483 - accuracy: 0.8570\n",
      "Epoch 22/100\n",
      "250/250 [==============================] - 0s 585us/step - loss: 0.3472 - accuracy: 0.8571\n",
      "Epoch 23/100\n",
      "250/250 [==============================] - 0s 553us/step - loss: 0.3471 - accuracy: 0.8587\n",
      "Epoch 24/100\n",
      "250/250 [==============================] - 0s 535us/step - loss: 0.3460 - accuracy: 0.8570\n",
      "Epoch 25/100\n",
      "250/250 [==============================] - 0s 544us/step - loss: 0.3459 - accuracy: 0.8586\n",
      "Epoch 26/100\n",
      "250/250 [==============================] - 0s 557us/step - loss: 0.3449 - accuracy: 0.8596\n",
      "Epoch 27/100\n",
      "250/250 [==============================] - 0s 599us/step - loss: 0.3449 - accuracy: 0.8574\n",
      "Epoch 28/100\n",
      "250/250 [==============================] - 0s 598us/step - loss: 0.3448 - accuracy: 0.8568\n",
      "Epoch 29/100\n",
      "250/250 [==============================] - 0s 564us/step - loss: 0.3446 - accuracy: 0.8581\n",
      "Epoch 30/100\n",
      "250/250 [==============================] - 0s 597us/step - loss: 0.3443 - accuracy: 0.8591\n",
      "Epoch 31/100\n",
      "250/250 [==============================] - 0s 596us/step - loss: 0.3439 - accuracy: 0.8590\n",
      "Epoch 32/100\n",
      "250/250 [==============================] - 0s 527us/step - loss: 0.3436 - accuracy: 0.8572\n",
      "Epoch 33/100\n",
      "250/250 [==============================] - 0s 518us/step - loss: 0.3431 - accuracy: 0.8602\n",
      "Epoch 34/100\n",
      "250/250 [==============================] - 0s 522us/step - loss: 0.3428 - accuracy: 0.8581\n",
      "Epoch 35/100\n",
      "250/250 [==============================] - 0s 533us/step - loss: 0.3433 - accuracy: 0.8586\n",
      "Epoch 36/100\n",
      "250/250 [==============================] - 0s 518us/step - loss: 0.3423 - accuracy: 0.8594\n",
      "Epoch 37/100\n",
      "250/250 [==============================] - 0s 524us/step - loss: 0.3428 - accuracy: 0.8595\n",
      "Epoch 38/100\n",
      "250/250 [==============================] - 0s 545us/step - loss: 0.3423 - accuracy: 0.8591\n",
      "Epoch 39/100\n",
      "250/250 [==============================] - 0s 530us/step - loss: 0.3421 - accuracy: 0.8596\n",
      "Epoch 40/100\n",
      "250/250 [==============================] - 0s 518us/step - loss: 0.3424 - accuracy: 0.8585\n",
      "Epoch 41/100\n",
      "250/250 [==============================] - 0s 523us/step - loss: 0.3422 - accuracy: 0.8595\n",
      "Epoch 42/100\n",
      "250/250 [==============================] - 0s 526us/step - loss: 0.3422 - accuracy: 0.8590\n",
      "Epoch 43/100\n",
      "250/250 [==============================] - 0s 536us/step - loss: 0.3416 - accuracy: 0.8597\n",
      "Epoch 44/100\n",
      "250/250 [==============================] - 0s 521us/step - loss: 0.3420 - accuracy: 0.8596\n",
      "Epoch 45/100\n",
      "250/250 [==============================] - 0s 522us/step - loss: 0.3414 - accuracy: 0.8602\n",
      "Epoch 46/100\n",
      "250/250 [==============================] - 0s 528us/step - loss: 0.3419 - accuracy: 0.8600\n",
      "Epoch 47/100\n",
      "250/250 [==============================] - 0s 541us/step - loss: 0.3412 - accuracy: 0.8608\n",
      "Epoch 48/100\n",
      "250/250 [==============================] - 0s 554us/step - loss: 0.3413 - accuracy: 0.8597\n",
      "Epoch 49/100\n",
      "250/250 [==============================] - 0s 547us/step - loss: 0.3410 - accuracy: 0.8600\n",
      "Epoch 50/100\n",
      "250/250 [==============================] - 0s 552us/step - loss: 0.3412 - accuracy: 0.8590\n",
      "Epoch 51/100\n",
      "250/250 [==============================] - 0s 543us/step - loss: 0.3412 - accuracy: 0.8589\n",
      "Epoch 52/100\n",
      "250/250 [==============================] - 0s 620us/step - loss: 0.3407 - accuracy: 0.8601\n",
      "Epoch 53/100\n",
      "250/250 [==============================] - 0s 566us/step - loss: 0.3409 - accuracy: 0.8615\n",
      "Epoch 54/100\n",
      "250/250 [==============================] - 0s 528us/step - loss: 0.3406 - accuracy: 0.8593\n",
      "Epoch 55/100\n",
      "250/250 [==============================] - 0s 533us/step - loss: 0.3407 - accuracy: 0.8610\n",
      "Epoch 56/100\n",
      "250/250 [==============================] - 0s 527us/step - loss: 0.3404 - accuracy: 0.8590\n",
      "Epoch 57/100\n",
      "250/250 [==============================] - 0s 542us/step - loss: 0.3405 - accuracy: 0.8611\n",
      "Epoch 58/100\n",
      "250/250 [==============================] - 0s 525us/step - loss: 0.3402 - accuracy: 0.8614\n",
      "Epoch 59/100\n",
      "250/250 [==============================] - 0s 526us/step - loss: 0.3401 - accuracy: 0.8615\n",
      "Epoch 60/100\n",
      "250/250 [==============================] - 0s 540us/step - loss: 0.3400 - accuracy: 0.8614\n",
      "Epoch 61/100\n",
      "250/250 [==============================] - 0s 515us/step - loss: 0.3398 - accuracy: 0.8595\n",
      "Epoch 62/100\n",
      "250/250 [==============================] - 0s 520us/step - loss: 0.3399 - accuracy: 0.8594\n",
      "Epoch 63/100\n",
      "250/250 [==============================] - 0s 523us/step - loss: 0.3398 - accuracy: 0.8597\n",
      "Epoch 64/100\n",
      "250/250 [==============================] - 0s 536us/step - loss: 0.3399 - accuracy: 0.8636\n",
      "Epoch 65/100\n",
      "250/250 [==============================] - 0s 537us/step - loss: 0.3399 - accuracy: 0.8602\n",
      "Epoch 66/100\n",
      "250/250 [==============================] - 0s 552us/step - loss: 0.3392 - accuracy: 0.8600\n",
      "Epoch 67/100\n",
      "250/250 [==============================] - 0s 541us/step - loss: 0.3396 - accuracy: 0.8616\n",
      "Epoch 68/100\n",
      "250/250 [==============================] - 0s 543us/step - loss: 0.3398 - accuracy: 0.8618\n",
      "Epoch 69/100\n",
      "250/250 [==============================] - 0s 559us/step - loss: 0.3392 - accuracy: 0.8616\n",
      "Epoch 70/100\n",
      "250/250 [==============================] - 0s 546us/step - loss: 0.3395 - accuracy: 0.8600\n",
      "Epoch 71/100\n",
      "250/250 [==============================] - 0s 532us/step - loss: 0.3389 - accuracy: 0.8615\n",
      "Epoch 72/100\n",
      "250/250 [==============================] - 0s 538us/step - loss: 0.3387 - accuracy: 0.8625\n",
      "Epoch 73/100\n",
      "250/250 [==============================] - 0s 600us/step - loss: 0.3387 - accuracy: 0.8618\n",
      "Epoch 74/100\n",
      "250/250 [==============================] - 0s 547us/step - loss: 0.3385 - accuracy: 0.8601\n",
      "Epoch 75/100\n",
      "250/250 [==============================] - 0s 525us/step - loss: 0.3387 - accuracy: 0.8624\n",
      "Epoch 76/100\n",
      "250/250 [==============================] - 0s 516us/step - loss: 0.3386 - accuracy: 0.8615\n",
      "Epoch 77/100\n",
      "250/250 [==============================] - 0s 512us/step - loss: 0.3389 - accuracy: 0.8609\n",
      "Epoch 78/100\n",
      "250/250 [==============================] - 0s 518us/step - loss: 0.3384 - accuracy: 0.8625\n",
      "Epoch 79/100\n"
     ]
    },
    {
     "name": "stdout",
     "output_type": "stream",
     "text": [
      "250/250 [==============================] - 0s 519us/step - loss: 0.3384 - accuracy: 0.8615\n",
      "Epoch 80/100\n",
      "250/250 [==============================] - 0s 498us/step - loss: 0.3381 - accuracy: 0.8619\n",
      "Epoch 81/100\n",
      "250/250 [==============================] - 0s 515us/step - loss: 0.3383 - accuracy: 0.8600\n",
      "Epoch 82/100\n",
      "250/250 [==============================] - 0s 505us/step - loss: 0.3385 - accuracy: 0.8612\n",
      "Epoch 83/100\n",
      "250/250 [==============================] - 0s 503us/step - loss: 0.3383 - accuracy: 0.8622\n",
      "Epoch 84/100\n",
      "250/250 [==============================] - 0s 510us/step - loss: 0.3375 - accuracy: 0.8629\n",
      "Epoch 85/100\n",
      "250/250 [==============================] - 0s 544us/step - loss: 0.3378 - accuracy: 0.8624\n",
      "Epoch 86/100\n",
      "250/250 [==============================] - 0s 528us/step - loss: 0.3382 - accuracy: 0.8631\n",
      "Epoch 87/100\n",
      "250/250 [==============================] - 0s 511us/step - loss: 0.3381 - accuracy: 0.8618\n",
      "Epoch 88/100\n",
      "250/250 [==============================] - 0s 505us/step - loss: 0.3375 - accuracy: 0.8610\n",
      "Epoch 89/100\n",
      "250/250 [==============================] - 0s 514us/step - loss: 0.3375 - accuracy: 0.8619\n",
      "Epoch 90/100\n",
      "250/250 [==============================] - 0s 515us/step - loss: 0.3376 - accuracy: 0.8629\n",
      "Epoch 91/100\n",
      "250/250 [==============================] - 0s 504us/step - loss: 0.3378 - accuracy: 0.8637\n",
      "Epoch 92/100\n",
      "250/250 [==============================] - 0s 515us/step - loss: 0.3371 - accuracy: 0.8629\n",
      "Epoch 93/100\n",
      "250/250 [==============================] - 0s 509us/step - loss: 0.3373 - accuracy: 0.8631\n",
      "Epoch 94/100\n",
      "250/250 [==============================] - 0s 513us/step - loss: 0.3372 - accuracy: 0.8633\n",
      "Epoch 95/100\n",
      "250/250 [==============================] - 0s 502us/step - loss: 0.3376 - accuracy: 0.8621\n",
      "Epoch 96/100\n",
      "250/250 [==============================] - 0s 498us/step - loss: 0.3372 - accuracy: 0.8629\n",
      "Epoch 97/100\n",
      "250/250 [==============================] - 0s 527us/step - loss: 0.3371 - accuracy: 0.8641\n",
      "Epoch 98/100\n",
      "250/250 [==============================] - 0s 513us/step - loss: 0.3374 - accuracy: 0.8627\n",
      "Epoch 99/100\n",
      "250/250 [==============================] - 0s 520us/step - loss: 0.3363 - accuracy: 0.8652\n",
      "Epoch 100/100\n",
      "250/250 [==============================] - 0s 523us/step - loss: 0.3366 - accuracy: 0.8636\n"
     ]
    },
    {
     "data": {
      "text/plain": [
       "<keras.callbacks.History at 0x7fe59d3778b0>"
      ]
     },
     "execution_count": 45,
     "metadata": {},
     "output_type": "execute_result"
    }
   ],
   "source": [
    "ann.fit(X_train,y_train,batch_size=32,epochs=100)"
   ]
  },
  {
   "cell_type": "markdown",
   "id": "8dea7324",
   "metadata": {},
   "source": [
    "# Making the predictions and evaluating the model"
   ]
  },
  {
   "cell_type": "code",
   "execution_count": 46,
   "id": "8c96ce50",
   "metadata": {},
   "outputs": [
    {
     "name": "stdout",
     "output_type": "stream",
     "text": [
      "1/1 [==============================] - 0s 43ms/step\n",
      "[[False]]\n"
     ]
    }
   ],
   "source": [
    "print(ann.predict(sc.transform([[1,0,0,600,1,40,3,60000,2,1,1,50000]]))>0.5)"
   ]
  },
  {
   "cell_type": "markdown",
   "id": "b07b0d10",
   "metadata": {},
   "source": [
    "# Predicting the Test set results"
   ]
  },
  {
   "cell_type": "code",
   "execution_count": 47,
   "id": "393e521c",
   "metadata": {},
   "outputs": [
    {
     "name": "stdout",
     "output_type": "stream",
     "text": [
      "63/63 [==============================] - 0s 485us/step\n",
      "[[0 0]\n",
      " [0 1]\n",
      " [0 0]\n",
      " ...\n",
      " [0 0]\n",
      " [0 0]\n",
      " [0 0]]\n"
     ]
    }
   ],
   "source": [
    "y_pred = ann.predict(X_test)\n",
    "y_pred = (y_pred > 0.5)\n",
    "print(np.concatenate((y_pred.reshape(len(y_pred),1), y_test.reshape(len(y_test),1)),1))"
   ]
  },
  {
   "cell_type": "markdown",
   "id": "ea1e393d",
   "metadata": {},
   "source": [
    "# Making the Confusion Matrix"
   ]
  },
  {
   "cell_type": "code",
   "execution_count": 48,
   "id": "0c8d6310",
   "metadata": {},
   "outputs": [
    {
     "name": "stdout",
     "output_type": "stream",
     "text": [
      "[[1502   93]\n",
      " [ 191  214]]\n"
     ]
    },
    {
     "data": {
      "text/plain": [
       "0.858"
      ]
     },
     "execution_count": 48,
     "metadata": {},
     "output_type": "execute_result"
    }
   ],
   "source": [
    "from sklearn.metrics import confusion_matrix, accuracy_score\n",
    "cm = confusion_matrix(y_test, y_pred)\n",
    "print(cm)\n",
    "accuracy_score(y_test,y_pred)"
   ]
  }
 ],
 "metadata": {
  "kernelspec": {
   "display_name": "Python 3 (ipykernel)",
   "language": "python",
   "name": "python3"
  },
  "language_info": {
   "codemirror_mode": {
    "name": "ipython",
    "version": 3
   },
   "file_extension": ".py",
   "mimetype": "text/x-python",
   "name": "python",
   "nbconvert_exporter": "python",
   "pygments_lexer": "ipython3",
   "version": "3.9.18"
  },
  "toc": {
   "base_numbering": 1,
   "nav_menu": {},
   "number_sections": true,
   "sideBar": true,
   "skip_h1_title": false,
   "title_cell": "Table of Contents",
   "title_sidebar": "Contents",
   "toc_cell": false,
   "toc_position": {
    "height": "calc(100% - 180px)",
    "left": "10px",
    "top": "150px",
    "width": "241.357px"
   },
   "toc_section_display": true,
   "toc_window_display": true
  },
  "varInspector": {
   "cols": {
    "lenName": 16,
    "lenType": 16,
    "lenVar": 40
   },
   "kernels_config": {
    "python": {
     "delete_cmd_postfix": "",
     "delete_cmd_prefix": "del ",
     "library": "var_list.py",
     "varRefreshCmd": "print(var_dic_list())"
    },
    "r": {
     "delete_cmd_postfix": ") ",
     "delete_cmd_prefix": "rm(",
     "library": "var_list.r",
     "varRefreshCmd": "cat(var_dic_list()) "
    }
   },
   "types_to_exclude": [
    "module",
    "function",
    "builtin_function_or_method",
    "instance",
    "_Feature"
   ],
   "window_display": false
  }
 },
 "nbformat": 4,
 "nbformat_minor": 5
}
